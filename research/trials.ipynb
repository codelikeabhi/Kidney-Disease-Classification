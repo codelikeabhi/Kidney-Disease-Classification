{
 "cells": [
  {
   "cell_type": "markdown",
   "metadata": {},
   "source": [
    "# Downloading Data from GDrive"
   ]
  },
  {
   "cell_type": "code",
   "execution_count": 1,
   "metadata": {},
   "outputs": [],
   "source": [
    "import gdown"
   ]
  },
  {
   "cell_type": "code",
   "execution_count": 2,
   "metadata": {},
   "outputs": [],
   "source": [
    "url = \"https://drive.google.com/file/d/1mHAjS0aPr8U0Nc-pCpinuF8rbox3G8FO/view?usp=sharing\""
   ]
  },
  {
   "cell_type": "code",
   "execution_count": 5,
   "metadata": {},
   "outputs": [
    {
     "data": {
      "text/plain": [
       "'1mHAjS0aPr8U0Nc-pCpinuF8rbox3G8FO'"
      ]
     },
     "execution_count": 5,
     "metadata": {},
     "output_type": "execute_result"
    }
   ],
   "source": [
    "file_id = url.split(\"/\")[-2]\n",
    "file_id"
   ]
  },
  {
   "cell_type": "code",
   "execution_count": 6,
   "metadata": {},
   "outputs": [],
   "source": [
    "prefix = 'https://drive.google.com/uc?/export=download&id='"
   ]
  },
  {
   "cell_type": "code",
   "execution_count": 8,
   "metadata": {},
   "outputs": [
    {
     "name": "stderr",
     "output_type": "stream",
     "text": [
      "Downloading...\n",
      "From (original): https://drive.google.com/uc?/export=download&id=1mHAjS0aPr8U0Nc-pCpinuF8rbox3G8FO\n",
      "From (redirected): https://drive.google.com/uc?%2Fexport=download&id=1mHAjS0aPr8U0Nc-pCpinuF8rbox3G8FO&confirm=t&uuid=4c31b3a5-fb99-4b13-a663-713cfba42b9b\n",
      "To: c:\\Projects\\Artificial Intelligence\\Kidney-Disease-Classification\\research\\Dataset.zip\n",
      "100%|██████████| 46.6M/46.6M [00:01<00:00, 27.7MB/s]\n"
     ]
    },
    {
     "data": {
      "text/plain": [
       "'Dataset.zip'"
      ]
     },
     "execution_count": 8,
     "metadata": {},
     "output_type": "execute_result"
    }
   ],
   "source": [
    "gdown.download(prefix+file_id, \"Dataset.zip\")"
   ]
  },
  {
   "cell_type": "code",
   "execution_count": null,
   "metadata": {},
   "outputs": [],
   "source": []
  }
 ],
 "metadata": {
  "kernelspec": {
   "display_name": "kidney",
   "language": "python",
   "name": "python3"
  },
  "language_info": {
   "codemirror_mode": {
    "name": "ipython",
    "version": 3
   },
   "file_extension": ".py",
   "mimetype": "text/x-python",
   "name": "python",
   "nbconvert_exporter": "python",
   "pygments_lexer": "ipython3",
   "version": "3.8.19"
  }
 },
 "nbformat": 4,
 "nbformat_minor": 2
}
